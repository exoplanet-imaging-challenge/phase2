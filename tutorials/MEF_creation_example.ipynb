{
 "cells": [
  {
   "cell_type": "markdown",
   "metadata": {},
   "source": [
    "# Example to create a MEF (multi-extension .fits) file "
   ]
  },
  {
   "cell_type": "markdown",
   "metadata": {},
   "source": [
    "This short example tutorial shows how to open, read and write a MEF .fits file (multi-extension .fits file). <br>\n",
    "\n",
    "The tutorial rely on the VIP package function `open_fits` and `write_fits`. \n",
    "\n",
    "More information about VIP can be found [here](https://vip.readthedocs.io/en/latest/)."
   ]
  },
  {
   "cell_type": "markdown",
   "metadata": {},
   "source": [
    "-----------"
   ]
  },
  {
   "cell_type": "markdown",
   "metadata": {},
   "source": [
    "## 0. VIP functions needed in this tutorial:"
   ]
  },
  {
   "cell_type": "markdown",
   "metadata": {},
   "source": [
    "For the installation of the **eidc2** package, please refer to the dedicated GitHub repository: https://github.com/exoplanet-imaging-challenge/phase2"
   ]
  },
  {
   "cell_type": "code",
   "execution_count": 1,
   "metadata": {
    "scrolled": true
   },
   "outputs": [],
   "source": [
    "from vip_hci.fits import open_fits, write_fits"
   ]
  },
  {
   "cell_type": "markdown",
   "metadata": {},
   "source": [
    "## 1. Opening the results in several .fits files"
   ]
  },
  {
   "cell_type": "markdown",
   "metadata": {},
   "source": [
    "Point towards your results files and open them (in this example, in fits files)."
   ]
  },
  {
   "cell_type": "code",
   "execution_count": 2,
   "metadata": {},
   "outputs": [],
   "source": [
    "path_res = '../data/example_astrometry/input/'\n",
    "data_set = 'sphere0'"
   ]
  },
  {
   "cell_type": "markdown",
   "metadata": {},
   "source": [
    "Let's assume your final i) astrometry (relative to the star), ii) astrometric uncertainties and iii) posterior distributions on y and x are currently saved in 3 separate fits files. For each of them, the first axis corresponds to planets b and c, while the second axis corresponds to y and x:"
   ]
  },
  {
   "cell_type": "code",
   "execution_count": 3,
   "metadata": {
    "scrolled": false
   },
   "outputs": [
    {
     "name": "stdout",
     "output_type": "stream",
     "text": [
      "Fits HDU-0 data successfully loaded. Data shape: (2, 2)\n",
      "Fits HDU-0 data successfully loaded. Data shape: (2, 2)\n",
      "Fits HDU-0 data successfully loaded. Data shape: (2, 2, 1000)\n"
     ]
    }
   ],
   "source": [
    "file_astro = path_res+'astrometry_{}.fits'.format(data_set)\n",
    "file_error_astro = path_res+'error_astrometry_{}.fits'.format(data_set)\n",
    "file_posterior_astro = path_res+'posterior_astrometry_{}.fits'.format(data_set)\n",
    "\n",
    "astro = open_fits(file_astro)\n",
    "errastro = open_fits(file_error_astro)\n",
    "postastro = open_fits(file_posterior_astro)"
   ]
  },
  {
   "cell_type": "code",
   "execution_count": 4,
   "metadata": {},
   "outputs": [
    {
     "name": "stdout",
     "output_type": "stream",
     "text": [
      "Fits file successfully overwritten\n"
     ]
    }
   ],
   "source": [
    "write_fits(path_res+'posterior_astrometry_{}.fits'.format(data_set), postastro)"
   ]
  },
  {
   "cell_type": "markdown",
   "metadata": {},
   "source": [
    "If you want more information about the open_fits function of VIP:"
   ]
  },
  {
   "cell_type": "code",
   "execution_count": 5,
   "metadata": {},
   "outputs": [],
   "source": [
    "open_fits?"
   ]
  },
  {
   "cell_type": "markdown",
   "metadata": {},
   "source": [
    "## 2. Writing the results in one MEF .fits file"
   ]
  },
  {
   "cell_type": "code",
   "execution_count": 6,
   "metadata": {},
   "outputs": [],
   "source": [
    "path_sub = '../data/example_astrometry/subm_for_evalAI/'"
   ]
  },
  {
   "cell_type": "code",
   "execution_count": 7,
   "metadata": {
    "scrolled": true
   },
   "outputs": [
    {
     "name": "stdout",
     "output_type": "stream",
     "text": [
      "Fits file successfully overwritten\n"
     ]
    }
   ],
   "source": [
    "write_fits(path_sub+'astrometry_{}.fits'.format(data_set),(astro,errastro,postastro))"
   ]
  },
  {
   "cell_type": "markdown",
   "metadata": {},
   "source": [
    "If you want more information about the write_fits function of VIP:"
   ]
  },
  {
   "cell_type": "code",
   "execution_count": 8,
   "metadata": {},
   "outputs": [],
   "source": [
    "write_fits?"
   ]
  },
  {
   "cell_type": "markdown",
   "metadata": {},
   "source": [
    "## 3. Opening and reading a MEF .fits file\n",
    "\n",
    "Example for task 1 (astrometry) and `gpi1` data set."
   ]
  },
  {
   "cell_type": "code",
   "execution_count": 9,
   "metadata": {},
   "outputs": [
    {
     "name": "stdout",
     "output_type": "stream",
     "text": [
      "Fits HDU-0 data successfully loaded. Data shape: (2, 2)\n"
     ]
    },
    {
     "data": {
      "text/plain": [
       "array([[  4.699997, -20.5     ],\n",
       "       [ 70.2     , -44.5     ]], dtype=float32)"
      ]
     },
     "execution_count": 9,
     "metadata": {},
     "output_type": "execute_result"
    }
   ],
   "source": [
    "#First extension: estimated position wrt the star (pixels)\n",
    "open_fits(path_sub+'astrometry_{}.fits'.format(data_set),n=0)"
   ]
  },
  {
   "cell_type": "code",
   "execution_count": 10,
   "metadata": {},
   "outputs": [
    {
     "name": "stdout",
     "output_type": "stream",
     "text": [
      "Fits HDU-1 data successfully loaded. Data shape: (2, 2)\n"
     ]
    },
    {
     "data": {
      "text/plain": [
       "array([[0.1499999 , 0.21808511],\n",
       "       [0.37340423, 0.47340426]], dtype=float32)"
      ]
     },
     "execution_count": 10,
     "metadata": {},
     "output_type": "execute_result"
    }
   ],
   "source": [
    "#Second extension: error on position wrt the star (pixels)\n",
    "open_fits(path_sub+'astrometry_{}.fits'.format(data_set),n=1)"
   ]
  },
  {
   "cell_type": "code",
   "execution_count": 11,
   "metadata": {},
   "outputs": [
    {
     "name": "stdout",
     "output_type": "stream",
     "text": [
      "Fits HDU-2 data successfully loaded. Data shape: (2, 2, 1000)\n"
     ]
    },
    {
     "data": {
      "text/plain": [
       "array([[[  4.584053 ,   4.6704254,   4.321846 , ...,   4.4807434,\n",
       "           4.6527634,   4.7267685],\n",
       "        [-20.662247 , -20.828255 , -21.12922  , ..., -20.75454  ,\n",
       "         -20.400108 , -20.394722 ]],\n",
       "\n",
       "       [[ 71.07947  ,  69.82951  ,  70.63603  , ...,  69.72006  ,\n",
       "          69.79921  ,  70.145386 ],\n",
       "        [-44.26633  , -44.678528 , -44.599045 , ..., -44.42522  ,\n",
       "         -44.80157  , -44.109734 ]]], dtype=float32)"
      ]
     },
     "execution_count": 11,
     "metadata": {},
     "output_type": "execute_result"
    }
   ],
   "source": [
    "#Third extension: posterior on estimations of the position\n",
    "open_fits(path_sub+'astrometry_{}.fits'.format(data_set),n=2)"
   ]
  },
  {
   "cell_type": "code",
   "execution_count": null,
   "metadata": {},
   "outputs": [],
   "source": []
  }
 ],
 "metadata": {
  "kernelspec": {
   "display_name": "Python 3 (ipykernel)",
   "language": "python",
   "name": "python3"
  },
  "language_info": {
   "codemirror_mode": {
    "name": "ipython",
    "version": 3
   },
   "file_extension": ".py",
   "mimetype": "text/x-python",
   "name": "python",
   "nbconvert_exporter": "python",
   "pygments_lexer": "ipython3",
   "version": "3.9.7"
  },
  "toc": {
   "base_numbering": 1,
   "nav_menu": {},
   "number_sections": false,
   "sideBar": true,
   "skip_h1_title": false,
   "title_cell": "Table of Contents",
   "title_sidebar": "Contents",
   "toc_cell": false,
   "toc_position": {},
   "toc_section_display": true,
   "toc_window_display": true
  }
 },
 "nbformat": 4,
 "nbformat_minor": 2
}
