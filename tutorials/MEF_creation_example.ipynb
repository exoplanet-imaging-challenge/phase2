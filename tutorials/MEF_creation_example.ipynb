{
 "cells": [
  {
   "cell_type": "markdown",
   "metadata": {},
   "source": [
    "# Example to create a MEF (multi-extension .fits) file "
   ]
  },
  {
   "cell_type": "markdown",
   "metadata": {},
   "source": [
    "This short example tutorial shows how to open, read and write a MEF .fits file (multi-extension .fits file). <br>\n",
    "\n",
    "The tutorial rely on the VIP package function `open_fits` and `write_fits`. \n",
    "\n",
    "More information about VIP can be found [here](https://vip.readthedocs.io/en/latest/)."
   ]
  },
  {
   "cell_type": "markdown",
   "metadata": {},
   "source": [
    "-----------"
   ]
  },
  {
   "cell_type": "markdown",
   "metadata": {},
   "source": [
    "## 0. VIP functions needed in this tutorial:"
   ]
  },
  {
   "cell_type": "markdown",
   "metadata": {},
   "source": [
    "For the installation of the **eidc2** package, please refer to the dedicated GitHub repository: https://github.com/exoplanet-imaging-challenge/phase2"
   ]
  },
  {
   "cell_type": "code",
   "execution_count": null,
   "metadata": {
    "scrolled": true
   },
   "outputs": [],
   "source": [
    "from vip_hci.fits import open_fits, write_fits"
   ]
  },
  {
   "cell_type": "markdown",
   "metadata": {},
   "source": [
    "## 1. Opening the results in several .fits files"
   ]
  },
  {
   "cell_type": "markdown",
   "metadata": {},
   "source": [
    "Point towards your results files and open them (in this example, in fits files)."
   ]
  },
  {
   "cell_type": "code",
   "execution_count": null,
   "metadata": {},
   "outputs": [],
   "source": [
    "path_res = './Astrometry_results/'\n",
    "data_set = 'sphere4'"
   ]
  },
  {
   "cell_type": "code",
   "execution_count": null,
   "metadata": {},
   "outputs": [],
   "source": [
    "file_astro = path_res+'astrometry_{}.fits'.format(data_set)\n",
    "file_error_astro = path_res+'error_astrometry_{}.fits'.format(data_set)\n",
    "file_posterior_astro = path_res+'posterior_astrometry_{}.fits'.format(data_set)\n",
    "\n",
    "astro = open_fits(file_astro)\n",
    "errastro = open_fits(file_error_astro)\n",
    "postastrp = open_fits(file_posterior_astro)"
   ]
  },
  {
   "cell_type": "markdown",
   "metadata": {},
   "source": [
    "If you want more information about the open_fits function of VIP:"
   ]
  },
  {
   "cell_type": "code",
   "execution_count": null,
   "metadata": {},
   "outputs": [],
   "source": [
    "open_fits?"
   ]
  },
  {
   "cell_type": "markdown",
   "metadata": {},
   "source": [
    "## 2. Writing the results in one MEF .fits file"
   ]
  },
  {
   "cell_type": "code",
   "execution_count": null,
   "metadata": {},
   "outputs": [],
   "source": [
    "path_sub = './Astrometry_for_evalai/'"
   ]
  },
  {
   "cell_type": "code",
   "execution_count": null,
   "metadata": {
    "scrolled": true
   },
   "outputs": [],
   "source": [
    "write_fits(path_sub+'astrometry_{}.fits'.format(data_set), (astro,errastro,postastrp))"
   ]
  },
  {
   "cell_type": "markdown",
   "metadata": {},
   "source": [
    "If you want more information about the open_fits function of VIP:"
   ]
  },
  {
   "cell_type": "code",
   "execution_count": null,
   "metadata": {},
   "outputs": [],
   "source": [
    "write_fits?"
   ]
  },
  {
   "cell_type": "markdown",
   "metadata": {},
   "source": [
    "## 3. Opening and reading a MEF .fits file\n",
    "\n",
    "Example for task 1 (astrometry) and `gpi1` data set."
   ]
  },
  {
   "cell_type": "code",
   "execution_count": null,
   "metadata": {},
   "outputs": [],
   "source": [
    "#First extension: estimated position wrt the star (pixels)\n",
    "astro = open_fits(path_sub+'astrometry_gpi1.fits', n=0)"
   ]
  },
  {
   "cell_type": "code",
   "execution_count": null,
   "metadata": {},
   "outputs": [],
   "source": [
    "#Second extension: error on position wrt the star (pixels)\n",
    "errastro = open_fits(path_sub+'astrometry_gpi1.fits', n=1)"
   ]
  },
  {
   "cell_type": "code",
   "execution_count": null,
   "metadata": {},
   "outputs": [],
   "source": [
    "#Third extension: posterior on estimations of the position\n",
    "postastrp = open_fits(path_sub+'astrometry_gpi1.fits', n=2)"
   ]
  }
 ],
 "metadata": {
  "kernelspec": {
   "display_name": "Python 3 (ipykernel)",
   "language": "python",
   "name": "python3"
  },
  "language_info": {
   "codemirror_mode": {
    "name": "ipython",
    "version": 3
   },
   "file_extension": ".py",
   "mimetype": "text/x-python",
   "name": "python",
   "nbconvert_exporter": "python",
   "pygments_lexer": "ipython3",
   "version": "3.9.7"
  },
  "toc": {
   "base_numbering": 1,
   "nav_menu": {},
   "number_sections": false,
   "sideBar": true,
   "skip_h1_title": false,
   "title_cell": "Table of Contents",
   "title_sidebar": "Contents",
   "toc_cell": false,
   "toc_position": {},
   "toc_section_display": true,
   "toc_window_display": true
  }
 },
 "nbformat": 4,
 "nbformat_minor": 4
}
