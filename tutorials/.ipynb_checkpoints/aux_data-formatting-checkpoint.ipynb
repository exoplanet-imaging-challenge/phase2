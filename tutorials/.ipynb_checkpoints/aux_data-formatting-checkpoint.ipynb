{
 "cells": [
  {
   "cell_type": "markdown",
   "metadata": {},
   "source": [
    "# Auxilliary data formatting"
   ]
  },
  {
   "cell_type": "markdown",
   "metadata": {},
   "source": [
    "> Author: *Valentin Christiaens*  \n",
    "> Last update: *2022/04/08*"
   ]
  },
  {
   "cell_type": "markdown",
   "metadata": {},
   "source": [
    "**Table of contents**\n",
    "\n",
    "* [1. Uniformization of SPHERE and GPI transmission files](#1.-Uniformization-of-SPHERE-and-GPI-transmission-files)"
   ]
  },
  {
   "cell_type": "markdown",
   "metadata": {},
   "source": [
    "The purpose of this tutorial is to show how the format of auxilliary data (e.g. transmission files) is made uniform. Note: this notebook is not to be made available to participants."
   ]
  },
  {
   "cell_type": "markdown",
   "metadata": {},
   "source": [
    "-----------"
   ]
  },
  {
   "cell_type": "markdown",
   "metadata": {},
   "source": [
    "Let's first import the packages needed in this tutorial:"
   ]
  },
  {
   "cell_type": "code",
   "execution_count": 1,
   "metadata": {
    "scrolled": true
   },
   "outputs": [],
   "source": [
    "from hciplot import plot_frames, plot_cubes\n",
    "from matplotlib.pyplot import *\n",
    "from matplotlib import pyplot as plt\n",
    "import numpy as np\n",
    "import pandas as pd\n",
    "from vip_hci.fits import open_fits, write_fits"
   ]
  },
  {
   "cell_type": "markdown",
   "metadata": {},
   "source": [
    "## 1. Uniformization of SPHERE and GPI transmission files"
   ]
  },
  {
   "cell_type": "markdown",
   "metadata": {},
   "source": [
    "### 1.1. GPI data"
   ]
  },
  {
   "cell_type": "markdown",
   "metadata": {},
   "source": [
    "Let's load the wavelength vector corresponding to the GPI IFS cubes (note: the wavelength vector of the 5 cubes are identical): "
   ]
  },
  {
   "cell_type": "code",
   "execution_count": 17,
   "metadata": {
    "scrolled": true
   },
   "outputs": [
    {
     "name": "stdout",
     "output_type": "stream",
     "text": [
      "Fits HDU-0 data successfully loaded. Data shape: (37,)\n"
     ]
    },
    {
     "data": {
      "text/plain": [
       "array([1.4946054, 1.5030162, 1.511427 , 1.5198379, 1.5282487, 1.5366595,\n",
       "       1.5450703, 1.5534811, 1.5618919, 1.5703027, 1.5787135, 1.5871243,\n",
       "       1.5955352, 1.603946 , 1.6123568, 1.6207676, 1.6291784, 1.6375892,\n",
       "       1.646    , 1.6544108, 1.6628217, 1.6712325, 1.6796433, 1.6880541,\n",
       "       1.6964649, 1.7048757, 1.7132865, 1.7216973, 1.7301081, 1.738519 ,\n",
       "       1.7469298, 1.7553406, 1.7637514, 1.7721622, 1.780573 , 1.7889838,\n",
       "       1.7973946], dtype=float32)"
      ]
     },
     "execution_count": 17,
     "metadata": {},
     "output_type": "execute_result"
    }
   ],
   "source": [
    "path = '/Users/Valentin/Documents/Postdoc/EIDC/'\n",
    "datpath = path+'Cubes/Data_GPI/'\n",
    "\n",
    "lbdaname = datpath+'wavelength_vect_gpi1.fits' # note: all 5 wavelength vectors are identical\n",
    "\n",
    "lbda = open_fits(lbdaname)"
   ]
  },
  {
   "cell_type": "markdown",
   "metadata": {},
   "source": [
    "Now let's load all of GPI's transmission vectors:"
   ]
  },
  {
   "cell_type": "code",
   "execution_count": 5,
   "metadata": {},
   "outputs": [],
   "source": [
    "path = '/Users/Valentin/Documents/Postdoc/EIDC/'\n",
    "trans_path = path+'Transmissions/'"
   ]
  },
  {
   "cell_type": "code",
   "execution_count": 6,
   "metadata": {},
   "outputs": [
    {
     "data": {
      "text/plain": [
       "(2, 70)"
      ]
     },
     "execution_count": 6,
     "metadata": {},
     "output_type": "execute_result"
    }
   ],
   "source": [
    "# let's save all GPI transmissions together too\n",
    "GPIY_trans = np.load(trans_path+\"GPIY_transmission.npy\")\n",
    "GPIJ_trans = np.load(trans_path+\"GPIJ_transmission.npy\")\n",
    "GPIH_trans = np.load(trans_path+\"GPIH_transmission.npy\")\n",
    "GPIK1_trans = np.load(trans_path+\"GPIK1_transmission.npy\")\n",
    "GPIK2_trans = np.load(trans_path+\"GPIK2_transmission.npy\")"
   ]
  },
  {
   "cell_type": "markdown",
   "metadata": {},
   "source": [
    "Let's make sure all radii probed are identical:"
   ]
  },
  {
   "cell_type": "code",
   "execution_count": 7,
   "metadata": {},
   "outputs": [
    {
     "data": {
      "text/plain": [
       "0.0"
      ]
     },
     "execution_count": 7,
     "metadata": {},
     "output_type": "execute_result"
    }
   ],
   "source": [
    "np.sum(GPIY_trans[0]-GPIJ_trans[0]) + np.sum(GPIY_trans[0]-GPIH_trans[0]) + np.sum(GPIY_trans[0]-GPIK1_trans[0])"
   ]
  },
  {
   "cell_type": "markdown",
   "metadata": {},
   "source": [
    "Let's make the new master transmission array:"
   ]
  },
  {
   "cell_type": "code",
   "execution_count": 9,
   "metadata": {},
   "outputs": [],
   "source": [
    "GPI_trans = np.array([GPIY_trans[0],GPIY_trans[1],GPIJ_trans[1],GPIH_trans[1],GPIK1_trans[1],GPIK2_trans[1]])"
   ]
  },
  {
   "cell_type": "markdown",
   "metadata": {},
   "source": [
    "Let's visualize it:"
   ]
  },
  {
   "cell_type": "code",
   "execution_count": 10,
   "metadata": {},
   "outputs": [
    {
     "data": {
      "text/plain": [
       "<matplotlib.legend.Legend at 0x7fb4f8037b20>"
      ]
     },
     "execution_count": 10,
     "metadata": {},
     "output_type": "execute_result"
    },
    {
     "data": {
      "image/png": "[encoded data removed]",
      "text/plain": [
       "<Figure size 432x288 with 1 Axes>"
      ]
     },
     "metadata": {
      "needs_background": "light"
     },
     "output_type": "display_data"
    }
   ],
   "source": [
    "last_r = -1\n",
    "plt.plot(GPI_trans[0,:last_r]*1000, GPI_trans[1,:last_r], 'b', label='Y')\n",
    "plt.plot(GPI_trans[0,:last_r]*1000, GPI_trans[2,:last_r], 'c', label='J')\n",
    "plt.plot(GPI_trans[0,:last_r]*1000, GPI_trans[3,:last_r], 'y', label='H')\n",
    "plt.plot(GPI_trans[0,:last_r]*1000, GPI_trans[4,:last_r], 'm', label='K1')\n",
    "plt.plot(GPI_trans[0,:last_r]*1000, GPI_trans[5,:last_r], 'r', label='K2')\n",
    "plt.xlabel(\"Radius (mas)\")\n",
    "plt.ylabel(\"Transmission\")\n",
    "plt.legend()"
   ]
  },
  {
   "cell_type": "markdown",
   "metadata": {},
   "source": [
    "We see a clear trend as a function of the wavelength band. Now, since all GPI IFS cubes are taken in H band, we just need to save that one for the data challenge.  "
   ]
  },
  {
   "cell_type": "code",
   "execution_count": 18,
   "metadata": {},
   "outputs": [
    {
     "name": "stdout",
     "output_type": "stream",
     "text": [
      "Fits file successfully saved\n"
     ]
    }
   ],
   "source": [
    "write_fits(trans_path+\"CoroTransmission_GPI-IFS_H-APLC.fits\", GPIH_trans)"
   ]
  },
  {
   "cell_type": "markdown",
   "metadata": {},
   "source": [
    "[Go to the top](#Table-of-contents)"
   ]
  },
  {
   "cell_type": "markdown",
   "metadata": {},
   "source": [
    "### 1.2. SPHERE data"
   ]
  },
  {
   "cell_type": "markdown",
   "metadata": {},
   "source": [
    "In this case the numpy array almost has the right dimensions already. A simple swap of the x and y axes is enough:"
   ]
  },
  {
   "cell_type": "code",
   "execution_count": 12,
   "metadata": {},
   "outputs": [],
   "source": [
    "path = '/Users/Valentin/Documents/Postdoc/EIDC/'\n",
    "trans_path = path+'Transmissions/'"
   ]
  },
  {
   "cell_type": "code",
   "execution_count": 13,
   "metadata": {},
   "outputs": [
    {
     "name": "stdout",
     "output_type": "stream",
     "text": [
      "Fits HDU-0 data successfully loaded. Data shape: (23, 40)\n"
     ]
    }
   ],
   "source": [
    "transmission = open_fits(trans_path+\"CoroTransmission_APLC_IFS_YJ.fits\")"
   ]
  },
  {
   "cell_type": "code",
   "execution_count": 14,
   "metadata": {},
   "outputs": [
    {
     "data": {
      "text/plain": [
       "(40, 23)"
      ]
     },
     "execution_count": 14,
     "metadata": {},
     "output_type": "execute_result"
    }
   ],
   "source": [
    "trans = np.swapaxes(transmission,0,1)\n",
    "trans.shape"
   ]
  },
  {
   "cell_type": "markdown",
   "metadata": {},
   "source": [
    "Let's visualize it:"
   ]
  },
  {
   "cell_type": "code",
   "execution_count": 16,
   "metadata": {},
   "outputs": [
    {
     "data": {
      "text/plain": [
       "<matplotlib.legend.Legend at 0x7fb4b808b250>"
      ]
     },
     "execution_count": 16,
     "metadata": {},
     "output_type": "execute_result"
    },
    {
     "data": {
      "image/png": "[encoded data removed]",
      "text/plain": [
       "<Figure size 432x288 with 1 Axes>"
      ]
     },
     "metadata": {
      "needs_background": "light"
     },
     "output_type": "display_data"
    }
   ],
   "source": [
    "last_r = 20\n",
    "plt.plot(trans[0,:last_r]*1000, trans[1,:last_r], 'b', label='ch 1')\n",
    "plt.plot(trans[0,:last_r]*1000, trans[10,:last_r], 'c', label='ch 10')\n",
    "plt.plot(trans[0,:last_r]*1000, trans[20,:last_r], 'y', label='ch 20')\n",
    "plt.plot(trans[0,:last_r]*1000, trans[30,:last_r], 'm', label='ch 30')\n",
    "plt.plot(trans[0,:last_r]*1000, trans[-1,:last_r], 'r', label='ch 39')\n",
    "plt.xlabel(\"Radius (mas)\")\n",
    "plt.ylabel(\"Transmission\")\n",
    "plt.legend()"
   ]
  },
  {
   "cell_type": "markdown",
   "metadata": {},
   "source": [
    "Finally let's save it as fits file:"
   ]
  },
  {
   "cell_type": "code",
   "execution_count": 15,
   "metadata": {},
   "outputs": [
    {
     "name": "stdout",
     "output_type": "stream",
     "text": [
      "Fits file successfully saved\n"
     ]
    }
   ],
   "source": [
    "write_fits(trans_path+\"CoroTransmission_SPHERE-IFS_YJ-APLC.fits\", trans)"
   ]
  },
  {
   "cell_type": "markdown",
   "metadata": {},
   "source": [
    "[Go to the top](#Table-of-contents)"
   ]
  }
 ],
 "metadata": {
  "kernelspec": {
   "display_name": "Python 3 (ipykernel)",
   "language": "python",
   "name": "python3"
  },
  "language_info": {
   "codemirror_mode": {
    "name": "ipython",
    "version": 3
   },
   "file_extension": ".py",
   "mimetype": "text/x-python",
   "name": "python",
   "nbconvert_exporter": "python",
   "pygments_lexer": "ipython3",
   "version": "3.9.7"
  },
  "toc": {
   "base_numbering": 1,
   "nav_menu": {},
   "number_sections": false,
   "sideBar": true,
   "skip_h1_title": false,
   "title_cell": "Table of Contents",
   "title_sidebar": "Contents",
   "toc_cell": false,
   "toc_position": {},
   "toc_section_display": true,
   "toc_window_display": true
  }
 },
 "nbformat": 4,
 "nbformat_minor": 2
}
